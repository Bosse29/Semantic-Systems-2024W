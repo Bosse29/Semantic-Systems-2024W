{
 "cells": [
  {
   "cell_type": "code",
   "execution_count": 8,
   "id": "d0ad2642-bec5-42b4-9f60-386da0698152",
   "metadata": {},
   "outputs": [],
   "source": [
    "import json\n",
    "\n",
    "# Load the JSON file with UTF-8 encoding\n",
    "with open(\"1000_credits_flattened.json\", \"r\", encoding=\"utf-8\") as f:\n",
    "    data = json.load(f)\n",
    "\n",
    "# Initialize a dictionary to group by filmID\n",
    "preprocessed = {}\n",
    "\n",
    "for entry in data:\n",
    "    film_id = entry.get(\"filmID\")\n",
    "    role = entry.get(\"role\")\n",
    "    entry_type = entry.get(\"type\")\n",
    "    \n",
    "    if film_id not in preprocessed:\n",
    "        preprocessed[film_id] = {\n",
    "            \"actors\": [],\n",
    "            \"directors\": [],\n",
    "            \"scriptwriters\": [],\n",
    "            \"editors\": []\n",
    "        }\n",
    "    \n",
    "    # Assign crew members to specific roles\n",
    "    if entry_type == \"cast\":\n",
    "        preprocessed[film_id][\"actors\"].append({\n",
    "            \"id\": entry.get(\"id\"),\n",
    "            \"name\": entry.get(\"name\"),\n",
    "            \"gender\": entry.get(\"gender\"),\n",
    "            \"character\": entry.get(\"character\")\n",
    "        })\n",
    "    elif entry_type == \"crew\":\n",
    "        if role == \"Director\":\n",
    "            preprocessed[film_id][\"directors\"].append({\n",
    "                \"id\": entry.get(\"id\"),\n",
    "                \"name\": entry.get(\"name\"),\n",
    "                \"gender\": entry.get(\"gender\")\n",
    "            })\n",
    "        elif role == \"Screenplay\":\n",
    "            preprocessed[film_id][\"scriptwriters\"].append({\n",
    "                \"id\": entry.get(\"id\"),\n",
    "                \"name\": entry.get(\"name\"),\n",
    "                \"gender\": entry.get(\"gender\")\n",
    "            })\n",
    "        elif role == \"Editor\":\n",
    "            preprocessed[film_id][\"editors\"].append({\n",
    "                \"id\": entry.get(\"id\"),\n",
    "                \"name\": entry.get(\"name\"),\n",
    "                \"gender\": entry.get(\"gender\")\n",
    "            })\n",
    "\n",
    "# Save the preprocessed data with UTF-8 encoding\n",
    "with open(\"preprocessed_credits.json\", \"w\", encoding=\"utf-8\") as f:\n",
    "    json.dump(preprocessed, f, indent=4, ensure_ascii=False)\n"
   ]
  }
 ],
 "metadata": {
  "kernelspec": {
   "display_name": "Python 3 (ipykernel)",
   "language": "python",
   "name": "python3"
  },
  "language_info": {
   "codemirror_mode": {
    "name": "ipython",
    "version": 3
   },
   "file_extension": ".py",
   "mimetype": "text/x-python",
   "name": "python",
   "nbconvert_exporter": "python",
   "pygments_lexer": "ipython3",
   "version": "3.12.3"
  }
 },
 "nbformat": 4,
 "nbformat_minor": 5
}
