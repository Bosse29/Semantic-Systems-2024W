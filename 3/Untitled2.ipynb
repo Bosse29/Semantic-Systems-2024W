{
 "cells": [
  {
   "cell_type": "code",
   "execution_count": 6,
   "id": "ad07824f-21b0-4a0c-827f-cf3d44d7f9eb",
   "metadata": {},
   "outputs": [
    {
     "name": "stdout",
     "output_type": "stream",
     "text": [
      "Processed JSON saved to 1000_credits_unique_ids_fixed.json\n"
     ]
    }
   ],
   "source": [
    "import json\n",
    "\n",
    "input_file = \"1000_credits_flattened.json\"\n",
    "output_file = \"1000_credits_unique_ids_fixed.json\"\n",
    "\n",
    "def preprocess_json(input_file, output_file):\n",
    "    with open(input_file, \"r\", encoding=\"utf-8\") as f:\n",
    "        data = json.load(f)\n",
    "\n",
    "    # Unique counters for each role\n",
    "    counters = {\"Actor\": 1, \"Director\": 1, \"ScriptWriter\": 1, \"Editor\": 1}\n",
    "\n",
    "    for entry in data:\n",
    "        # Handle \"cast\" as actors\n",
    "        if entry[\"type\"] == \"cast\":\n",
    "            role = \"Actor\"\n",
    "        # Handle \"crew\" roles\n",
    "        elif entry[\"type\"] == \"crew\":\n",
    "            if entry[\"role\"] == \"Screenplay\":\n",
    "                role = \"ScriptWriter\"  # Normalize Screenplay to ScriptWriter\n",
    "            else:\n",
    "                role = entry[\"role\"]\n",
    "        else:\n",
    "            role = None  # Skip unrecognized entries\n",
    "\n",
    "        if role:\n",
    "            role_key = role.replace(\" \", \"\")  # Normalize role key\n",
    "            if role_key not in counters:\n",
    "                counters[role_key] = 1  # Initialize counter for new roles\n",
    "            entry[\"uniqueID\"] = f\"{role_key.lower()}_{counters[role_key]}\"\n",
    "            counters[role_key] += 1\n",
    "\n",
    "    with open(output_file, \"w\", encoding=\"utf-8\") as f:\n",
    "        json.dump(data, f, indent=4)\n",
    "\n",
    "# Run preprocessing\n",
    "preprocess_json(input_file, output_file)\n",
    "print(f\"Processed JSON saved to {output_file}\")\n",
    "\n"
   ]
  }
 ],
 "metadata": {
  "kernelspec": {
   "display_name": "Python 3 (ipykernel)",
   "language": "python",
   "name": "python3"
  },
  "language_info": {
   "codemirror_mode": {
    "name": "ipython",
    "version": 3
   },
   "file_extension": ".py",
   "mimetype": "text/x-python",
   "name": "python",
   "nbconvert_exporter": "python",
   "pygments_lexer": "ipython3",
   "version": "3.10.6"
  }
 },
 "nbformat": 4,
 "nbformat_minor": 5
}
