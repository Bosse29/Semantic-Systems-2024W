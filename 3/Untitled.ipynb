{
 "cells": [
  {
   "cell_type": "code",
   "execution_count": 12,
   "id": "2af7f00f-52e0-441e-b32d-51c1c644d2f1",
   "metadata": {
    "scrolled": true
   },
   "outputs": [
    {
     "data": {
      "text/plain": [
       "<Graph identifier=N4d08737733fd4fb18f41a0ad631edc95 (<class 'rdflib.graph.Graph'>)>"
      ]
     },
     "execution_count": 12,
     "metadata": {},
     "output_type": "execute_result"
    }
   ],
   "source": [
    "from rdflib import Graph, Literal, Namespace, URIRef\n",
    "from rdflib.namespace import XSD\n",
    "\n",
    "# Load the two RDF files\n",
    "g1 = Graph()\n",
    "g1.parse(r\"C:\\Users\\hallo\\Documents\\GitHub\\Semantic-Systems-2024W\\3\\1000-links-csv.ttl\", format=\"turtle\")\n",
    "\n",
    "g2 = Graph()\n",
    "g2.parse(r\"C:\\Users\\hallo\\Documents\\GitHub\\Semantic-Systems-2024W\\3\\1000-movies-metadata-csv.ttl\", format=\"turtle\")\n",
    "\n",
    "merged_graph = Graph()\n",
    "\n",
    "# Function to fix literals (force doubles and ensure correct datatype)\n",
    "def fix_literal(o):\n",
    "    if isinstance(o, Literal):\n",
    "        try:\n",
    "            if o.datatype == XSD.double or (o.datatype is None and '.' in str(o)):\n",
    "                return Literal(float(o), datatype=XSD.double)\n",
    "        except ValueError:\n",
    "            pass\n",
    "    return o\n",
    "\n",
    "# Merge graphs with corrected literals\n",
    "for s, p, o in g1:\n",
    "    merged_graph.add((s, p, fix_literal(o)))\n",
    "for s, p, o in g2:\n",
    "    merged_graph.add((s, p, fix_literal(o)))\n",
    "\n",
    "# Serialize the merged graph to a new Turtle file\n",
    "merged_graph.serialize(r\"C:\\Users\\hallo\\Documents\\GitHub\\Semantic-Systems-2024W\\3\\merged_file.ttl\", format=\"turtle\")\n"
   ]
  },
  {
   "cell_type": "code",
   "execution_count": null,
   "id": "6fe37a7e-5f61-4ef6-a08c-9a872bcb2430",
   "metadata": {},
   "outputs": [],
   "source": []
  }
 ],
 "metadata": {
  "kernelspec": {
   "display_name": "Python 3 (ipykernel)",
   "language": "python",
   "name": "python3"
  },
  "language_info": {
   "codemirror_mode": {
    "name": "ipython",
    "version": 3
   },
   "file_extension": ".py",
   "mimetype": "text/x-python",
   "name": "python",
   "nbconvert_exporter": "python",
   "pygments_lexer": "ipython3",
   "version": "3.12.3"
  }
 },
 "nbformat": 4,
 "nbformat_minor": 5
}
